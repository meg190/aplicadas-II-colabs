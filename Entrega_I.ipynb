{
  "nbformat": 4,
  "nbformat_minor": 0,
  "metadata": {
    "colab": {
      "provenance": [],
      "name": "Entrega I.ipynb",
      "include_colab_link": true
    },
    "kernelspec": {
      "name": "python3",
      "display_name": "Python 3"
    },
    "language_info": {
      "name": "python"
    }
  },
  "cells": [
    {
      "cell_type": "markdown",
      "metadata": {
        "id": "view-in-github",
        "colab_type": "text"
      },
      "source": [
        "<a href=\"https://colab.research.google.com/github/meg190/aplicadas-II-colabs/blob/main/Entrega_I.ipynb\" target=\"_parent\"><img src=\"https://colab.research.google.com/assets/colab-badge.svg\" alt=\"Open In Colab\"/></a>"
      ]
    },
    {
      "cell_type": "code",
      "execution_count": null,
      "metadata": {
        "id": "vQqvqNndECGV"
      },
      "outputs": [],
      "source": []
    },
    {
      "cell_type": "markdown",
      "source": [
        "#Modelo 1: Modelo Logístico\n",
        "\n",
        "El modelo logistico tiene la forma:\n",
        "\n",
        "$$\\frac{dx}{dt}= ax-bx^{2}$$\n",
        "\n",
        "2. ¿Qué representa el equilibrio poblacional en este modelo?\n",
        "\n",
        " -primero se define que es un equilibrio poblacional: un equilibrio ocurre cuando la derivada es cero:\n",
        " $$\\frac{dx}{dt}= 0 \\Rightarrow ax-bx^{2}= 0$$\n",
        " $$x(a-bx)=0 \\Rightarrow x=0\\; o\\;x=\\frac{a}{b}$$\n",
        "\n",
        " Los equilibrios poblacionales son:\n",
        "\n",
        "   1. $$x=0\\Rightarrow \\text{ la universidad se queda sin estudiantes}$$  \n",
        "\n",
        "   2. $$x=\\frac{a}{b}\\Rightarrow$$  Poblacion o capacidad de poblacion maxima\n",
        "\n",
        "\n"
      ],
      "metadata": {
        "id": "31kIS7XbF_sW"
      }
    }
  ]
}