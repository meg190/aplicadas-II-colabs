{
  "nbformat": 4,
  "nbformat_minor": 0,
  "metadata": {
    "colab": {
      "provenance": [],
      "name": "Entrega I.ipynb",
      "include_colab_link": true
    },
    "kernelspec": {
      "name": "python3",
      "display_name": "Python 3"
    },
    "language_info": {
      "name": "python"
    }
  },
  "cells": [
    {
      "cell_type": "markdown",
      "metadata": {
        "id": "view-in-github",
        "colab_type": "text"
      },
      "source": [
        "<a href=\"https://colab.research.google.com/github/meg190/aplicadas-II-colabs/blob/main/Entrega_I.ipynb\" target=\"_parent\"><img src=\"https://colab.research.google.com/assets/colab-badge.svg\" alt=\"Open In Colab\"/></a>"
      ]
    },
    {
      "cell_type": "code",
      "execution_count": null,
      "metadata": {
        "id": "vQqvqNndECGV"
      },
      "outputs": [],
      "source": []
    },
    {
      "cell_type": "markdown",
      "source": [
        "#Modelo 1: Modelo Logístico\n",
        "\n",
        "El modelo logistico tiene la forma:\n",
        "\n",
        "$$\\frac{dx}{dt}= ax-bx^{2}$$\n",
        "\n",
        "##2. ¿Qué representa el equilibrio poblacional en este modelo?\n",
        "\n",
        " -primero se define que es un equilibrio poblacional: un equilibrio ocurre cuando la derivada es cero:\n",
        " $$\\frac{dx}{dt}= 0 \\Rightarrow ax-bx^{2}= 0$$\n",
        " $$x(a-bx)=0 \\Rightarrow x=0\\; o\\;x=\\frac{a}{b}$$\n",
        "\n",
        " Los equilibrios poblacionales posibles son:\n",
        "\n",
        "   1. $$x=0\\Rightarrow \\text{ la universidad se queda sin estudiantes}$$  \n",
        "\n",
        "   2. $$x=\\frac{a}{b}\\Rightarrow \\text {La universidad tiene una poblacion estable maxima o capacidad institucional}$$  \n",
        "\n",
        "la primera representa la extincion de la poblacion estudiantil al no matricularse nadie, y la segunda representa el tamaño de poblacion estable a lo largo del tiempo donde la tasa de crecimiento (a) se equilibra con las perdidas de desercion o saturacion.\n",
        "\n",
        " En conclusion de acuerdo al ejercicio planteado, el equilibrio poblacional es la cantidad de estudiantes estables que puede mantener la universidad de acuerdo a sus tasas de crecimiento y desercion\n",
        "\n",
        "\n",
        "##3. ¿Se alcanza un valor estable? ¿En qué condiciones?\n",
        "\n",
        "Si, con este modelo se puede alcanzar un valor estable, porque en el modelo logistico la poblacion no crece indefinidamente, por lo tanto, se debe alcanzar un valor fijo para tener estabilidad.\n",
        "\n",
        "Esto ocurre porque al principio la tasa de crecimiento (a) aumenta, sin embargo, a medida que la poblacion crece la desercion que esta asociada a la población crece proporcionalmente y termina equilibrando el crecimiento\n",
        "\n",
        "En que condiciones?\n",
        "$$x=ax-bx^{2}\\; \\text{con}\\; x(t)\\geq 0$$\n",
        "\n",
        "1. $x_{1}=0$\n",
        "\n",
        "   $ f'(x_{1})=a-2bx\\Rightarrow f'(0)=a.$\n",
        "    \n",
        "   Estable si $a< 0$ (la poblacion decae) o $a=0$ , inestable si $a< 0$\n",
        "2. $x_{2}x_{0=\\frac{a}{b}$\n",
        "\n",
        "   $f'(x_{2})=a-2\\frac{a}{b}=-a$\n",
        "   Estable si $a>0$ y además $b>0$. Inestable si $a<0$. ( Si $a>0$ pero $b\\leq 0$, el modelo no tiene equilibrio positivo y no hay saturacion.\n",
        "\n",
        "####Comportamiento\n",
        "- Si $0< x_{0}< \\frac{a}{b} \\Rightarrow x(t)$ crece monotonamente hasta $\\frac{a}{b}$\n",
        "-Si $x_{0}>  \\frac{a}{b} \\Rightarrow x(t)$ decrece hasta $\\frac{a}{b}$.\n",
        "-Si $x_{0}=0$ entonces $x(t)$ permanece en 0.\n",
        "\n",
        "##4.  ¿Cómo se comporta la solución cuando $t\\overset{}{\\rightarrow}\\infty $?\n",
        "\n",
        "partimos del modelo logistico\n",
        "$$\\frac{dx}{dt}= ax-bx^{2}\\text{,}\\; x(0)=x_{0}$$\n",
        "\n",
        "Solucion explicita suponiendo que $b\\neq 0$\n",
        "\n",
        "$$x(t)=\\frac{\\frac{a}{b}}{1+\\frac{\\frac{a}{b}-x_{0}}{x_{0}}\\cdot e^{-at}}$$\n",
        "\n",
        "Donde $x_{0}$ es la poblacion inicial.\n",
        "\n",
        "Por otro lado, se observa que el termino $e^{-at}$ es $0$ cuando $t$ tiene a $\\infty$, ya que $a>0$ (asumiendo que la tasa de crecimiento es positiva.\n",
        "\n",
        "\n"
      ],
      "metadata": {
        "id": "31kIS7XbF_sW"
      }
    }
  ]
}