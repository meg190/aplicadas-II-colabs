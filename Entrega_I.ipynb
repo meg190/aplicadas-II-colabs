{
  "nbformat": 4,
  "nbformat_minor": 0,
  "metadata": {
    "colab": {
      "provenance": [],
      "name": "Entrega I.ipynb",
      "include_colab_link": true
    },
    "kernelspec": {
      "name": "python3",
      "display_name": "Python 3"
    },
    "language_info": {
      "name": "python"
    }
  },
  "cells": [
    {
      "cell_type": "markdown",
      "metadata": {
        "id": "view-in-github",
        "colab_type": "text"
      },
      "source": [
        "<a href=\"https://colab.research.google.com/github/meg190/aplicadas-II-colabs/blob/main/Entrega_I.ipynb\" target=\"_parent\"><img src=\"https://colab.research.google.com/assets/colab-badge.svg\" alt=\"Open In Colab\"/></a>"
      ]
    },
    {
      "cell_type": "code",
      "execution_count": null,
      "metadata": {
        "id": "vQqvqNndECGV"
      },
      "outputs": [],
      "source": []
    },
    {
      "cell_type": "markdown",
      "source": [
        "#Modelo 1: Modelo Logístico\n",
        "\n",
        "El modelo logistico tiene la forma:\n",
        "\n",
        "$$\\frac{dx}{dt}= ax-bx^{2}$$\n",
        "\n",
        "##2. ¿Qué representa el equilibrio poblacional en este modelo?\n",
        "\n",
        " -primero se define que es un equilibrio poblacional: un equilibrio ocurre cuando la derivada es cero:\n",
        " $$\\frac{dx}{dt}= 0 \\Rightarrow ax-bx^{2}= 0$$\n",
        " $$x(a-bx)=0 \\Rightarrow x=0\\; o\\;x=\\frac{a}{b}$$\n",
        "\n",
        " Los equilibrios poblacionales posibles son:\n",
        "\n",
        "   1. $$x=0\\Rightarrow \\text{ la universidad se queda sin estudiantes}$$  \n",
        "\n",
        "   2. $$x=\\frac{a}{b}\\Rightarrow \\text {La universidad tiene una poblacion estable maxima o capacidad institucional}$$  \n",
        "\n",
        "la primera representa la extincion de la poblacion estudiantil al no matricularse nadie, y la segunda representa el tamaño de poblacion estable a lo largo del tiempo donde la tasa de crecimiento (a) se equilibra con las perdidas de desercion o saturacion.\n",
        "\n",
        " En conclusion de acuerdo al ejercicio planteado, el equilibrio poblacional es la cantidad de estudiantes estables que puede mantener la universidad de acuerdo a sus tasas de crecimiento y desercion\n",
        "\n",
        "\n",
        "##3. ¿Se alcanza un valor estable? ¿En qué condiciones?\n",
        "\n",
        "Si, con este modelo se puede alcanzar un valor estable, porque en el modelo logistico la poblacion no crece indefinidamente, por lo tantoe se debe alcanzar un valor fijo para estabilidad.\n",
        "\n",
        "Esto ocurre porque al principio la tasa de crecimiento a aumenta, sin embargo, a medida que la poblacion crece la desercion que esta asociada a la población crece proporcionalmente y termina equilibrando el crecimiento\n",
        "\n",
        "En que condiciones?\n",
        "$$x=ax-bx^{2}\\; \\text{con}\\; x(t)\\geq 0$$\n",
        "\n",
        "1. $x1=0$\n",
        "\n"
      ],
      "metadata": {
        "id": "31kIS7XbF_sW"
      }
    }
  ]
}